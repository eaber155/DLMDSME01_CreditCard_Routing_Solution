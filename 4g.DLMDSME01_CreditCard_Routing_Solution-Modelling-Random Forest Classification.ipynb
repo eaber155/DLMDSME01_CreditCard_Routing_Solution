{
 "cells": [
  {
   "cell_type": "markdown",
   "id": "8a57453c",
   "metadata": {},
   "source": [
    "## Task 1: Credit Card Routing for Online Purchase via Predictive Modelling"
   ]
  },
  {
   "cell_type": "markdown",
   "id": "ba7917f2",
   "metadata": {},
   "source": [
    "### Problem statement\n",
    "* Over the past year, the online payment department at a large retail company have encountered a high failure rate of online credit card payments done via so-called payment service providers, referred to as PSP's by the business stakeholders.\n",
    "* The company losses alot of money due to failed transactions and customers have become increasingly unsatisfied with the online shop.\n",
    "* The current routing logic is manual and rule-based. Business decision makers hope that with predictive modelling, a smarter way of routing a PSP to a transaction is possible.\n",
    "\n",
    "### Data Science Task\n",
    "* Help the business to automate the credit card routing via a predictive model\n",
    "* Such a model should increase the payment success rate by finding the best possible PSP for each transaction and at the same time keep the transaction fees low."
   ]
  },
  {
   "cell_type": "markdown",
   "id": "f0a8c013",
   "metadata": {},
   "source": [
    "# PART 4g: Model Selection - Review Random Forest Classification Model"
   ]
  },
  {
   "cell_type": "markdown",
   "id": "7946cddc",
   "metadata": {},
   "source": [
    "### Import Key Libraries"
   ]
  },
  {
   "cell_type": "code",
   "execution_count": 1,
   "id": "5ff0bc66",
   "metadata": {},
   "outputs": [],
   "source": [
    "import pandas as pd\n",
    "import numpy as np\n",
    "from sklearn.model_selection import train_test_split\n",
    "from sklearn.compose import ColumnTransformer\n",
    "from sklearn.preprocessing import OneHotEncoder\n",
    "from sklearn.preprocessing import LabelEncoder\n",
    "from sklearn.preprocessing import StandardScaler\n",
    "from sklearn.linear_model import LogisticRegression\n",
    "from sklearn import metrics"
   ]
  },
  {
   "cell_type": "code",
   "execution_count": 2,
   "id": "f492bba5",
   "metadata": {},
   "outputs": [],
   "source": [
    "# import visualization libraries\n",
    "import matplotlib.pyplot as plt\n",
    "import matplotlib.patches as mpatches\n",
    "import seaborn as sns\n",
    "from bokeh.plotting import figure, show, output_notebook \n",
    "from bokeh.palettes import Spectral\n",
    "from bokeh.models import ColumnDataSource\n",
    "from bokeh.plotting import figure, show"
   ]
  },
  {
   "cell_type": "markdown",
   "id": "6f4d79f6",
   "metadata": {},
   "source": [
    "### Read Dataset and update index"
   ]
  },
  {
   "cell_type": "code",
   "execution_count": 3,
   "id": "f28ef5ff",
   "metadata": {},
   "outputs": [],
   "source": [
    "dataset = pd.read_excel(\"PSP_Jan_Feb_2019.xlsx\")"
   ]
  },
  {
   "cell_type": "code",
   "execution_count": 4,
   "id": "52fac896",
   "metadata": {},
   "outputs": [
    {
     "data": {
      "text/html": [
       "<div>\n",
       "<style scoped>\n",
       "    .dataframe tbody tr th:only-of-type {\n",
       "        vertical-align: middle;\n",
       "    }\n",
       "\n",
       "    .dataframe tbody tr th {\n",
       "        vertical-align: top;\n",
       "    }\n",
       "\n",
       "    .dataframe thead th {\n",
       "        text-align: right;\n",
       "    }\n",
       "</style>\n",
       "<table border=\"1\" class=\"dataframe\">\n",
       "  <thead>\n",
       "    <tr style=\"text-align: right;\">\n",
       "      <th></th>\n",
       "      <th>Unnamed: 0</th>\n",
       "      <th>tmsp</th>\n",
       "      <th>country</th>\n",
       "      <th>amount</th>\n",
       "      <th>success</th>\n",
       "      <th>PSP</th>\n",
       "      <th>3D_secured</th>\n",
       "      <th>card</th>\n",
       "    </tr>\n",
       "  </thead>\n",
       "  <tbody>\n",
       "    <tr>\n",
       "      <th>0</th>\n",
       "      <td>0</td>\n",
       "      <td>2019-01-01 00:01:11</td>\n",
       "      <td>Germany</td>\n",
       "      <td>89</td>\n",
       "      <td>0</td>\n",
       "      <td>UK_Card</td>\n",
       "      <td>0</td>\n",
       "      <td>Visa</td>\n",
       "    </tr>\n",
       "    <tr>\n",
       "      <th>1</th>\n",
       "      <td>1</td>\n",
       "      <td>2019-01-01 00:01:17</td>\n",
       "      <td>Germany</td>\n",
       "      <td>89</td>\n",
       "      <td>1</td>\n",
       "      <td>UK_Card</td>\n",
       "      <td>0</td>\n",
       "      <td>Visa</td>\n",
       "    </tr>\n",
       "    <tr>\n",
       "      <th>2</th>\n",
       "      <td>2</td>\n",
       "      <td>2019-01-01 00:02:49</td>\n",
       "      <td>Germany</td>\n",
       "      <td>238</td>\n",
       "      <td>0</td>\n",
       "      <td>UK_Card</td>\n",
       "      <td>1</td>\n",
       "      <td>Diners</td>\n",
       "    </tr>\n",
       "    <tr>\n",
       "      <th>3</th>\n",
       "      <td>3</td>\n",
       "      <td>2019-01-01 00:03:13</td>\n",
       "      <td>Germany</td>\n",
       "      <td>238</td>\n",
       "      <td>1</td>\n",
       "      <td>UK_Card</td>\n",
       "      <td>1</td>\n",
       "      <td>Diners</td>\n",
       "    </tr>\n",
       "    <tr>\n",
       "      <th>4</th>\n",
       "      <td>4</td>\n",
       "      <td>2019-01-01 00:04:33</td>\n",
       "      <td>Austria</td>\n",
       "      <td>124</td>\n",
       "      <td>0</td>\n",
       "      <td>Simplecard</td>\n",
       "      <td>0</td>\n",
       "      <td>Diners</td>\n",
       "    </tr>\n",
       "  </tbody>\n",
       "</table>\n",
       "</div>"
      ],
      "text/plain": [
       "   Unnamed: 0                tmsp  country  amount  success         PSP  \\\n",
       "0           0 2019-01-01 00:01:11  Germany      89        0     UK_Card   \n",
       "1           1 2019-01-01 00:01:17  Germany      89        1     UK_Card   \n",
       "2           2 2019-01-01 00:02:49  Germany     238        0     UK_Card   \n",
       "3           3 2019-01-01 00:03:13  Germany     238        1     UK_Card   \n",
       "4           4 2019-01-01 00:04:33  Austria     124        0  Simplecard   \n",
       "\n",
       "   3D_secured    card  \n",
       "0           0    Visa  \n",
       "1           0    Visa  \n",
       "2           1  Diners  \n",
       "3           1  Diners  \n",
       "4           0  Diners  "
      ]
     },
     "execution_count": 4,
     "metadata": {},
     "output_type": "execute_result"
    }
   ],
   "source": [
    "dataset.head()"
   ]
  },
  {
   "cell_type": "code",
   "execution_count": 5,
   "id": "bcc7751d",
   "metadata": {},
   "outputs": [],
   "source": [
    "dataset = dataset.drop('Unnamed: 0', axis=1)"
   ]
  },
  {
   "cell_type": "markdown",
   "id": "b228cecf-9237-40f8-a7f5-2a443f683cc7",
   "metadata": {},
   "source": [
    "#### Remove Duplicates\n",
    "* Comment out to include all transactions"
   ]
  },
  {
   "cell_type": "code",
   "execution_count": 6,
   "id": "089fff6a-77c6-4c5d-90f9-cc70c95078e8",
   "metadata": {},
   "outputs": [],
   "source": [
    "dataset.sort_values([\"tmsp\", \"country\", \"amount\"], axis = 0, ascending = True, inplace = True, na_position = \"first\")\n",
    "dataset.reset_index(inplace=True, drop=True)\n",
    "dataset[\"time_delta\"] = (dataset[\"tmsp\"]-dataset[\"tmsp\"].shift(1)).dt.total_seconds()\n",
    "dataset[\"time_delta\"] = dataset[\"time_delta\"].fillna(0)\n",
    "same_tx = (dataset[\"time_delta\"]>60).cumsum()\n",
    "dataset['tx_number'] = dataset.groupby(same_tx).ngroup()\n",
    "## Comment out to include duplicates\n",
    "dataset.drop_duplicates(subset=['tx_number', 'PSP'], keep='first', inplace=True)"
   ]
  },
  {
   "cell_type": "markdown",
   "id": "30d72b38-a31f-4bb6-98fb-54f943f71330",
   "metadata": {},
   "source": [
    "#### Create dummy data/time features"
   ]
  },
  {
   "cell_type": "code",
   "execution_count": 7,
   "id": "ae12a2cc-f560-472e-893c-d407e9a6a83e",
   "metadata": {},
   "outputs": [],
   "source": [
    "### Remove year and month from the features list as there is only one year and the success rate is equally distributed between the two months\n",
    "## Create hour of the day feature\n",
    "dataset['day_of_month'] = dataset['tmsp'].dt.day\n",
    "## Create days of the week feature\n",
    "dataset['day_of_week'] = dataset['tmsp'].dt.day_name()\n",
    "## Create hour of the day feature\n",
    "dataset['hour'] = dataset['tmsp'].dt.hour"
   ]
  },
  {
   "cell_type": "code",
   "execution_count": 8,
   "id": "6813547f",
   "metadata": {},
   "outputs": [],
   "source": [
    "# make timestamp the index for easier analysis\n",
    "dataset = dataset.set_index(dataset.columns[0])"
   ]
  },
  {
   "cell_type": "code",
   "execution_count": 9,
   "id": "c913c59f",
   "metadata": {},
   "outputs": [
    {
     "data": {
      "text/html": [
       "<div>\n",
       "<style scoped>\n",
       "    .dataframe tbody tr th:only-of-type {\n",
       "        vertical-align: middle;\n",
       "    }\n",
       "\n",
       "    .dataframe tbody tr th {\n",
       "        vertical-align: top;\n",
       "    }\n",
       "\n",
       "    .dataframe thead th {\n",
       "        text-align: right;\n",
       "    }\n",
       "</style>\n",
       "<table border=\"1\" class=\"dataframe\">\n",
       "  <thead>\n",
       "    <tr style=\"text-align: right;\">\n",
       "      <th></th>\n",
       "      <th>country</th>\n",
       "      <th>amount</th>\n",
       "      <th>success</th>\n",
       "      <th>PSP</th>\n",
       "      <th>3D_secured</th>\n",
       "      <th>card</th>\n",
       "      <th>time_delta</th>\n",
       "      <th>tx_number</th>\n",
       "      <th>day_of_month</th>\n",
       "      <th>day_of_week</th>\n",
       "      <th>hour</th>\n",
       "    </tr>\n",
       "    <tr>\n",
       "      <th>tmsp</th>\n",
       "      <th></th>\n",
       "      <th></th>\n",
       "      <th></th>\n",
       "      <th></th>\n",
       "      <th></th>\n",
       "      <th></th>\n",
       "      <th></th>\n",
       "      <th></th>\n",
       "      <th></th>\n",
       "      <th></th>\n",
       "      <th></th>\n",
       "    </tr>\n",
       "  </thead>\n",
       "  <tbody>\n",
       "    <tr>\n",
       "      <th>2019-01-01 00:01:11</th>\n",
       "      <td>Germany</td>\n",
       "      <td>89</td>\n",
       "      <td>0</td>\n",
       "      <td>UK_Card</td>\n",
       "      <td>0</td>\n",
       "      <td>Visa</td>\n",
       "      <td>0.0</td>\n",
       "      <td>0</td>\n",
       "      <td>1</td>\n",
       "      <td>Tuesday</td>\n",
       "      <td>0</td>\n",
       "    </tr>\n",
       "    <tr>\n",
       "      <th>2019-01-01 00:02:49</th>\n",
       "      <td>Germany</td>\n",
       "      <td>238</td>\n",
       "      <td>0</td>\n",
       "      <td>UK_Card</td>\n",
       "      <td>1</td>\n",
       "      <td>Diners</td>\n",
       "      <td>92.0</td>\n",
       "      <td>1</td>\n",
       "      <td>1</td>\n",
       "      <td>Tuesday</td>\n",
       "      <td>0</td>\n",
       "    </tr>\n",
       "    <tr>\n",
       "      <th>2019-01-01 00:04:33</th>\n",
       "      <td>Austria</td>\n",
       "      <td>124</td>\n",
       "      <td>0</td>\n",
       "      <td>Simplecard</td>\n",
       "      <td>0</td>\n",
       "      <td>Diners</td>\n",
       "      <td>80.0</td>\n",
       "      <td>2</td>\n",
       "      <td>1</td>\n",
       "      <td>Tuesday</td>\n",
       "      <td>0</td>\n",
       "    </tr>\n",
       "    <tr>\n",
       "      <th>2019-01-01 00:06:41</th>\n",
       "      <td>Switzerland</td>\n",
       "      <td>282</td>\n",
       "      <td>0</td>\n",
       "      <td>UK_Card</td>\n",
       "      <td>0</td>\n",
       "      <td>Master</td>\n",
       "      <td>128.0</td>\n",
       "      <td>3</td>\n",
       "      <td>1</td>\n",
       "      <td>Tuesday</td>\n",
       "      <td>0</td>\n",
       "    </tr>\n",
       "    <tr>\n",
       "      <th>2019-01-01 00:07:19</th>\n",
       "      <td>Switzerland</td>\n",
       "      <td>282</td>\n",
       "      <td>0</td>\n",
       "      <td>Simplecard</td>\n",
       "      <td>0</td>\n",
       "      <td>Master</td>\n",
       "      <td>38.0</td>\n",
       "      <td>3</td>\n",
       "      <td>1</td>\n",
       "      <td>Tuesday</td>\n",
       "      <td>0</td>\n",
       "    </tr>\n",
       "  </tbody>\n",
       "</table>\n",
       "</div>"
      ],
      "text/plain": [
       "                         country  amount  success         PSP  3D_secured  \\\n",
       "tmsp                                                                        \n",
       "2019-01-01 00:01:11      Germany      89        0     UK_Card           0   \n",
       "2019-01-01 00:02:49      Germany     238        0     UK_Card           1   \n",
       "2019-01-01 00:04:33      Austria     124        0  Simplecard           0   \n",
       "2019-01-01 00:06:41  Switzerland     282        0     UK_Card           0   \n",
       "2019-01-01 00:07:19  Switzerland     282        0  Simplecard           0   \n",
       "\n",
       "                       card  time_delta  tx_number  day_of_month day_of_week  \\\n",
       "tmsp                                                                           \n",
       "2019-01-01 00:01:11    Visa         0.0          0             1     Tuesday   \n",
       "2019-01-01 00:02:49  Diners        92.0          1             1     Tuesday   \n",
       "2019-01-01 00:04:33  Diners        80.0          2             1     Tuesday   \n",
       "2019-01-01 00:06:41  Master       128.0          3             1     Tuesday   \n",
       "2019-01-01 00:07:19  Master        38.0          3             1     Tuesday   \n",
       "\n",
       "                     hour  \n",
       "tmsp                       \n",
       "2019-01-01 00:01:11     0  \n",
       "2019-01-01 00:02:49     0  \n",
       "2019-01-01 00:04:33     0  \n",
       "2019-01-01 00:06:41     0  \n",
       "2019-01-01 00:07:19     0  "
      ]
     },
     "execution_count": 9,
     "metadata": {},
     "output_type": "execute_result"
    }
   ],
   "source": [
    "dataset.head()"
   ]
  },
  {
   "cell_type": "code",
   "execution_count": 10,
   "id": "fce384a2",
   "metadata": {},
   "outputs": [],
   "source": [
    "# add a feature field to hold the order of the dates - for the base model\n",
    "# commented out script creating date_order as date_order has been dropped for the predictive analysis (refer to report)\n",
    "#dataset['date_order'] = np.arange(len(dataset.index))"
   ]
  },
  {
   "cell_type": "markdown",
   "id": "b3f8a9af",
   "metadata": {},
   "source": [
    "#### Recreate dataset_time"
   ]
  },
  {
   "cell_type": "code",
   "execution_count": 11,
   "id": "f2282345-492c-426f-a54b-79e60f0bc942",
   "metadata": {},
   "outputs": [
    {
     "data": {
      "text/plain": [
       "country\n",
       "Austria         7434\n",
       "Germany        22683\n",
       "Switzerland     7815\n",
       "Name: country, dtype: int64"
      ]
     },
     "execution_count": 11,
     "metadata": {},
     "output_type": "execute_result"
    }
   ],
   "source": [
    "dataset.groupby('country')['country'].count()"
   ]
  },
  {
   "cell_type": "code",
   "execution_count": 12,
   "id": "ca09958a-0af9-4390-999b-c7425a72a2e8",
   "metadata": {},
   "outputs": [
    {
     "name": "stdout",
     "output_type": "stream",
     "text": [
      "country         0\n",
      "amount          0\n",
      "success         0\n",
      "PSP             0\n",
      "3D_secured      0\n",
      "card            0\n",
      "time_delta      0\n",
      "tx_number       0\n",
      "day_of_month    0\n",
      "day_of_week     0\n",
      "hour            0\n",
      "dtype: int64\n"
     ]
    }
   ],
   "source": [
    "# Print the number of missing entries in each column\n",
    "print(dataset.isna().sum())"
   ]
  },
  {
   "cell_type": "code",
   "execution_count": null,
   "id": "fa04e847-0eda-42b4-9041-b238e01f9e4f",
   "metadata": {},
   "outputs": [],
   "source": []
  },
  {
   "cell_type": "markdown",
   "id": "f3907632-6f82-4a68-a79b-88ca3682d7a7",
   "metadata": {},
   "source": [
    "### CRISP-DM (3) - Data Preparation for refined mode\n",
    "* Defining feature variable vector matrix and dependent variable vector matrix\n",
    "* Deal with missing information\n",
    "* Deal with correlations\n",
    "* Feature Encoding\n",
    "* Splitting the data into train and test\n",
    "* Feature Scaling"
   ]
  },
  {
   "cell_type": "markdown",
   "id": "7848fcd7-1bb4-4ddb-b18b-e7cb1e20f8c3",
   "metadata": {},
   "source": [
    "### 3a. Feature Engineering"
   ]
  },
  {
   "cell_type": "markdown",
   "id": "dc7f76bb",
   "metadata": {},
   "source": [
    "#### 3ai. Encoding of categorical feature variables and label and defining feature variable and dependent variable vector matrices for the base model"
   ]
  },
  {
   "cell_type": "code",
   "execution_count": 13,
   "id": "917e1f3b-84ec-4de6-973a-160063dc2e43",
   "metadata": {},
   "outputs": [],
   "source": [
    "# Encoding day of the week\n",
    "def encode_DayOfWeek(day_of_week):\n",
    "    if day_of_week==\"Monday\":\n",
    "        return 0\n",
    "    if day_of_week==\"Tuesday\":\n",
    "        return 1\n",
    "    if day_of_week==\"Wednesday\":\n",
    "        return 2\n",
    "    if day_of_week==\"Thursday\":\n",
    "        return 3\n",
    "    if day_of_week==\"Friday\":\n",
    "        return 4\n",
    "    if day_of_week==\"Saturday\":\n",
    "        return 5\n",
    "    if day_of_week==\"Sunday\":\n",
    "        return 6"
   ]
  },
  {
   "cell_type": "code",
   "execution_count": 14,
   "id": "7117261c-15b1-47a5-9a9c-e82fdc84ccfa",
   "metadata": {},
   "outputs": [],
   "source": [
    "dataset['day_of_week_num'] = dataset['day_of_week'].apply(encode_DayOfWeek)"
   ]
  },
  {
   "cell_type": "code",
   "execution_count": 15,
   "id": "ffe460c4",
   "metadata": {},
   "outputs": [
    {
     "data": {
      "text/html": [
       "<div>\n",
       "<style scoped>\n",
       "    .dataframe tbody tr th:only-of-type {\n",
       "        vertical-align: middle;\n",
       "    }\n",
       "\n",
       "    .dataframe tbody tr th {\n",
       "        vertical-align: top;\n",
       "    }\n",
       "\n",
       "    .dataframe thead th {\n",
       "        text-align: right;\n",
       "    }\n",
       "</style>\n",
       "<table border=\"1\" class=\"dataframe\">\n",
       "  <thead>\n",
       "    <tr style=\"text-align: right;\">\n",
       "      <th></th>\n",
       "      <th>country</th>\n",
       "      <th>amount</th>\n",
       "      <th>success</th>\n",
       "      <th>PSP</th>\n",
       "      <th>3D_secured</th>\n",
       "      <th>card</th>\n",
       "      <th>time_delta</th>\n",
       "      <th>tx_number</th>\n",
       "      <th>day_of_month</th>\n",
       "      <th>day_of_week</th>\n",
       "      <th>hour</th>\n",
       "      <th>day_of_week_num</th>\n",
       "    </tr>\n",
       "    <tr>\n",
       "      <th>tmsp</th>\n",
       "      <th></th>\n",
       "      <th></th>\n",
       "      <th></th>\n",
       "      <th></th>\n",
       "      <th></th>\n",
       "      <th></th>\n",
       "      <th></th>\n",
       "      <th></th>\n",
       "      <th></th>\n",
       "      <th></th>\n",
       "      <th></th>\n",
       "      <th></th>\n",
       "    </tr>\n",
       "  </thead>\n",
       "  <tbody>\n",
       "    <tr>\n",
       "      <th>2019-01-01 00:01:11</th>\n",
       "      <td>Germany</td>\n",
       "      <td>89</td>\n",
       "      <td>0</td>\n",
       "      <td>UK_Card</td>\n",
       "      <td>0</td>\n",
       "      <td>Visa</td>\n",
       "      <td>0.0</td>\n",
       "      <td>0</td>\n",
       "      <td>1</td>\n",
       "      <td>Tuesday</td>\n",
       "      <td>0</td>\n",
       "      <td>1</td>\n",
       "    </tr>\n",
       "  </tbody>\n",
       "</table>\n",
       "</div>"
      ],
      "text/plain": [
       "                     country  amount  success      PSP  3D_secured  card  \\\n",
       "tmsp                                                                       \n",
       "2019-01-01 00:01:11  Germany      89        0  UK_Card           0  Visa   \n",
       "\n",
       "                     time_delta  tx_number  day_of_month day_of_week  hour  \\\n",
       "tmsp                                                                         \n",
       "2019-01-01 00:01:11         0.0          0             1     Tuesday     0   \n",
       "\n",
       "                     day_of_week_num  \n",
       "tmsp                                  \n",
       "2019-01-01 00:01:11                1  "
      ]
     },
     "execution_count": 15,
     "metadata": {},
     "output_type": "execute_result"
    }
   ],
   "source": [
    "dataset.head(1)"
   ]
  },
  {
   "cell_type": "code",
   "execution_count": 16,
   "id": "765c1f98",
   "metadata": {},
   "outputs": [],
   "source": [
    "#define categorical features\n",
    "cat_features = ['country', 'card', 'PSP']"
   ]
  },
  {
   "cell_type": "code",
   "execution_count": 17,
   "id": "db7d39c0",
   "metadata": {},
   "outputs": [],
   "source": [
    "#encoding the categorical feature variables using OneHotEncoder\n",
    "ct = ColumnTransformer(transformers=[('encoder', OneHotEncoder(),cat_features)], remainder='passthrough')\n",
    "### with no dups and no date_order (scenario AT, DTIDRF, DTEDRF)\n",
    "X = np.array(ct.fit_transform(dataset.drop(['success','day_of_week'], axis=1)))\n",
    "### when including dups (scenario WDT)\n",
    "#X = np.array(ct.fit_transform(dataset.drop(['success','day_of_week', 'time_delta', 'tx_number'], axis=1)))"
   ]
  },
  {
   "cell_type": "code",
   "execution_count": 18,
   "id": "bb9e0f88",
   "metadata": {},
   "outputs": [
    {
     "name": "stdout",
     "output_type": "stream",
     "text": [
      "[  1.   0.   0.   1.   0.   0.   0.   0.   1.   0. 124.   0.  80.   2.\n",
      "   1.   0.   1.]\n"
     ]
    }
   ],
   "source": [
    "print(X[2])"
   ]
  },
  {
   "cell_type": "code",
   "execution_count": 19,
   "id": "ba02e24c",
   "metadata": {},
   "outputs": [],
   "source": [
    "#encoding the label using LabelEncoder\n",
    "le = LabelEncoder()\n",
    "y = le.fit_transform(dataset['success'])"
   ]
  },
  {
   "cell_type": "code",
   "execution_count": 20,
   "id": "81432216",
   "metadata": {},
   "outputs": [
    {
     "name": "stdout",
     "output_type": "stream",
     "text": [
      "0\n"
     ]
    }
   ],
   "source": [
    "print(y[2])"
   ]
  },
  {
   "cell_type": "code",
   "execution_count": null,
   "id": "d13937a4-9df6-4301-989b-a9e09674ee10",
   "metadata": {},
   "outputs": [],
   "source": []
  },
  {
   "cell_type": "markdown",
   "id": "a0299503",
   "metadata": {},
   "source": [
    "#### 3aii. Split the data into training set and the test set"
   ]
  },
  {
   "cell_type": "code",
   "execution_count": 21,
   "id": "0287277c",
   "metadata": {},
   "outputs": [],
   "source": [
    "X_train, X_test, y_train, y_test = train_test_split(X, y, test_size=0.2,random_state=30)"
   ]
  },
  {
   "cell_type": "code",
   "execution_count": 22,
   "id": "a6fd27e3",
   "metadata": {},
   "outputs": [
    {
     "name": "stdout",
     "output_type": "stream",
     "text": [
      "[1.0000e+00 0.0000e+00 0.0000e+00 0.0000e+00 0.0000e+00 1.0000e+00\n",
      " 0.0000e+00 0.0000e+00 0.0000e+00 1.0000e+00 3.1600e+02 0.0000e+00\n",
      " 1.1600e+02 2.2953e+04 1.9000e+01 9.0000e+00 1.0000e+00]\n"
     ]
    }
   ],
   "source": [
    "print(X_train[2])"
   ]
  },
  {
   "cell_type": "markdown",
   "id": "083fed1c",
   "metadata": {},
   "source": [
    "#### 3aiii. Feature scaling"
   ]
  },
  {
   "cell_type": "code",
   "execution_count": 23,
   "id": "60b35c1b",
   "metadata": {},
   "outputs": [],
   "source": [
    "# scaling all the non-encoded columns on both train and test set\n",
    "sc = StandardScaler()\n",
    "X_train[:,6:] = sc.fit_transform(X_train[:,6:]) #fitting is done only with the train set\n",
    "X_test[:,6:] = sc.transform(X_test[:,6:]) #scale test data using the fitted scaler"
   ]
  },
  {
   "cell_type": "code",
   "execution_count": 24,
   "id": "f457d94d",
   "metadata": {},
   "outputs": [
    {
     "name": "stdout",
     "output_type": "stream",
     "text": [
      "[ 0.          1.          0.          0.          1.          0.\n",
      " -0.30022504  2.02908863 -0.62597507 -0.88706933  0.44714685 -0.56074325\n",
      " -0.63608601  0.26660762 -1.33962713  1.36456111  1.65172211]\n"
     ]
    }
   ],
   "source": [
    "print(X_train[1])"
   ]
  },
  {
   "cell_type": "code",
   "execution_count": 25,
   "id": "d4719a5b",
   "metadata": {},
   "outputs": [
    {
     "name": "stdout",
     "output_type": "stream",
     "text": [
      "[ 0.          1.          0.          0.          1.          0.\n",
      " -0.30022504 -0.49283209 -0.62597507  1.1273076  -0.07250978  1.78334738\n",
      "  0.46761663  1.64174621  1.41941929 -0.2199559  -0.41945735]\n"
     ]
    }
   ],
   "source": [
    "print(X_test[1])"
   ]
  },
  {
   "cell_type": "code",
   "execution_count": null,
   "id": "b7be2ad8",
   "metadata": {},
   "outputs": [],
   "source": []
  },
  {
   "cell_type": "markdown",
   "id": "759e680e",
   "metadata": {},
   "source": [
    "### CRISP-DM (4) - Modelling\n",
    "* What's the base model? (Define a base a model)\n",
    "* Study the features and feature selection\n",
    "* How do you refine the model?\n",
    "* Try out different models"
   ]
  },
  {
   "cell_type": "markdown",
   "id": "a61a66c9",
   "metadata": {},
   "source": [
    "### 4a: Model 7 - Random Forest Classification"
   ]
  },
  {
   "cell_type": "markdown",
   "id": "bbebd611",
   "metadata": {},
   "source": [
    "#### 4ai. Creation the Model\n",
    "* Model tried out:\n",
    "* Changes to features tried out:"
   ]
  },
  {
   "cell_type": "code",
   "execution_count": 26,
   "id": "36203e0c-8d14-486e-ab65-a40a9e5dffda",
   "metadata": {},
   "outputs": [],
   "source": [
    "#from datetime import datetime\n",
    "import time"
   ]
  },
  {
   "cell_type": "code",
   "execution_count": 27,
   "id": "2f19fae1",
   "metadata": {},
   "outputs": [
    {
     "name": "stdout",
     "output_type": "stream",
     "text": [
      "Training time: 0.5636906623840332 seconds\n"
     ]
    }
   ],
   "source": [
    "# Train Random Forest Classification model\n",
    "from sklearn.ensemble import RandomForestClassifier\n",
    "startTime = time.time()\n",
    "classifier = RandomForestClassifier(n_estimators = 10, criterion = 'entropy', random_state = 30)\n",
    "classifier.fit(X_train, y_train)\n",
    "print(\"Training time: {} seconds\".format(time.time() - startTime))"
   ]
  },
  {
   "cell_type": "code",
   "execution_count": 28,
   "id": "5ecc903e-1f30-4b96-bce2-94f22663b00d",
   "metadata": {},
   "outputs": [],
   "source": [
    "# Predict y given X_base_test\n",
    "y_pred = classifier.predict(X_test)\n",
    "y_pred_proba = classifier.predict_proba(X_test)"
   ]
  },
  {
   "cell_type": "code",
   "execution_count": 29,
   "id": "30624539-cb20-43bc-a3e5-cd9a0969974c",
   "metadata": {},
   "outputs": [
    {
     "data": {
      "text/plain": [
       "array([[0.9, 0.1],\n",
       "       [0.7, 0.3],\n",
       "       [0.8, 0.2],\n",
       "       ...,\n",
       "       [0.5, 0.5],\n",
       "       [1. , 0. ],\n",
       "       [0.6, 0.4]])"
      ]
     },
     "execution_count": 29,
     "metadata": {},
     "output_type": "execute_result"
    }
   ],
   "source": [
    "y_pred_proba"
   ]
  },
  {
   "cell_type": "code",
   "execution_count": null,
   "id": "66de7965",
   "metadata": {},
   "outputs": [],
   "source": []
  },
  {
   "cell_type": "markdown",
   "id": "99f7886b",
   "metadata": {},
   "source": [
    "#### 4aii. Evaluation of the output for Model 7 - Random Forest Classification\n",
    "* AUC Base - 62.407%"
   ]
  },
  {
   "cell_type": "markdown",
   "id": "37c217c4-d506-427d-9e15-b35e6a1315ce",
   "metadata": {},
   "source": [
    "###### AUC with duplicate transactions included\n",
    "* Training Time - 0.5485 secs\n",
    "* AUC Logistic Regression - 62.548%\n",
    "* AUC KNearestNeighbors - 58.253%\n",
    "* AUC SVM - 52.495%\n",
    "* AUC Kernel SVM - 54.717%\n",
    "* AUC Naive Bayes - 61.451%\n",
    "* AUC Decision Tree Classification - 53.765%\n",
    "* AUC Random Forest Classification - 59.330%"
   ]
  },
  {
   "cell_type": "markdown",
   "id": "6d4b9ad2-5830-4cd1-83fb-d56a1b6d967d",
   "metadata": {},
   "source": [
    "###### AUC without duplicate transactions\n",
    "* Training Time - 0.3851 secs\n",
    "* AUC Logistic Regression - 62.751%\n",
    "* AUC KNearestNeighbors - 59.097%\n",
    "* AUC SVM - 43.316%\n",
    "* AUC Kernel SVM - 57.321%\n",
    "* AUC Naive Bayes - 62.230%\n",
    "* AUC Decision Tree Classification -  54.675%\n",
    "* AUC Random Forest Classification - 60.346%"
   ]
  },
  {
   "cell_type": "markdown",
   "id": "d3914850-f538-4fe8-a2d2-0df4f2dc6181",
   "metadata": {},
   "source": [
    "###### AUC with duplicate transactions included (with time_delta and tx_number features)\n",
    "* Training Time - 0.9643 secs\n",
    "* AUC Logistic Regression - 62.478%\n",
    "* AUC KNearestNeighbors - 58.505%\n",
    "* AUC SVM - 46.918%\n",
    "* AUC Kernel SVM - 59.94%\n",
    "* AUC Naive Bayes - 61.124%\n",
    "* AUC Decision Tree Classification - 53.454%\n",
    "* AUC Random Forest Classification - 61.161%"
   ]
  },
  {
   "cell_type": "markdown",
   "id": "8ccec3f0-0df6-4ed3-9309-03649d0453fd",
   "metadata": {},
   "source": [
    "###### AUC without duplicate transactions (with time_delta and tx_number features)\n",
    "* Training Time - 0.7839 secs\n",
    "* AUC Logistic Regression - 62.770%\n",
    "* AUC KNearestNeighbors - 58.081%\n",
    "* AUC SVM - 57.379%\n",
    "* AUC Kernel SVM - 57.836%\n",
    "* AUC Naive Bayes - 62.184%\n",
    "* AUC Decision Tree Classification - 54.370%\n",
    "* AUC Random Forest Classification - 62.378%"
   ]
  },
  {
   "cell_type": "code",
   "execution_count": 30,
   "id": "a61489c0",
   "metadata": {},
   "outputs": [
    {
     "name": "stdout",
     "output_type": "stream",
     "text": [
      "Random Forest Classification model AUC (in %): 62.37994764670118\n"
     ]
    }
   ],
   "source": [
    "fpr, tpr, thresholds = metrics.roc_curve(y_test, y_pred_proba[:,1],pos_label=1)\n",
    "auc = metrics.auc(fpr, tpr)\n",
    "print(\"Random Forest Classification model AUC (in %):\", auc*100)"
   ]
  },
  {
   "cell_type": "code",
   "execution_count": 31,
   "id": "86a51230",
   "metadata": {},
   "outputs": [
    {
     "data": {
      "image/png": "[encoded data removed]",
      "text/plain": [
       "<Figure size 300x200 with 1 Axes>"
      ]
     },
     "metadata": {},
     "output_type": "display_data"
    }
   ],
   "source": [
    "# ROC-AUC Curve\n",
    "# plot roc curves\n",
    "plt.figure(figsize=(3, 2))\n",
    "random_probs = [0 for i in range(len(y_test))]\n",
    "p_fpr, p_tpr, thresholds = metrics.roc_curve(y_test, random_probs, pos_label=1)\n",
    "plt.plot(fpr, tpr, linestyle='--', color='orange')\n",
    "plt.plot(p_fpr, p_tpr, linestyle='--', color='blue')\n",
    "# title\n",
    "plt.title('ROC curve')\n",
    "# x label\n",
    "plt.xlabel('False Positive Rate')\n",
    "# y label\n",
    "plt.ylabel('True Positive rate')\n",
    "plt.show()"
   ]
  },
  {
   "cell_type": "code",
   "execution_count": null,
   "id": "7af9604e-e19e-4200-a1b2-55951b87232d",
   "metadata": {},
   "outputs": [],
   "source": []
  }
 ],
 "metadata": {
  "kernelspec": {
   "display_name": "Python 3 (ipykernel)",
   "language": "python",
   "name": "python3"
  },
  "language_info": {
   "codemirror_mode": {
    "name": "ipython",
    "version": 3
   },
   "file_extension": ".py",
   "mimetype": "text/x-python",
   "name": "python",
   "nbconvert_exporter": "python",
   "pygments_lexer": "ipython3",
   "version": "3.12.3"
  }
 },
 "nbformat": 4,
 "nbformat_minor": 5
}
