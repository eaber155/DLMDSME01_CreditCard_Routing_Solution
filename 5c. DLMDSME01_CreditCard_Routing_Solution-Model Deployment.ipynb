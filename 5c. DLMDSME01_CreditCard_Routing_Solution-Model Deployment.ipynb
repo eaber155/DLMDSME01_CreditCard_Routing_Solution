{
 "cells": [
  {
   "cell_type": "markdown",
   "id": "8a57453c",
   "metadata": {},
   "source": [
    "## Task 1: Credit Card Routing for Online Purchase via Predictive Modelling"
   ]
  },
  {
   "cell_type": "markdown",
   "id": "ba7917f2",
   "metadata": {},
   "source": [
    "### Problem statement\n",
    "* Over the past year, the online payment department at a large retail company have encountered a high failure rate of online credit card payments done via so-called payment service providers, referred to as PSP's by the business stakeholders.\n",
    "* The company losses alot of money due to failed transactions and customers have become increasingly unsatisfied with the online shop.\n",
    "* The current routing logic is manual and rule-based. Business decision makers hope that with predictive modelling, a smarter way of routing a PSP to a transaction is possible.\n",
    "\n",
    "### Data Science Task\n",
    "* Help the business to automate the credit card routing via a predictive model\n",
    "* Such a model should increase the payment success rate by finding the best possible PSP for each transaction and at the same time keep the transaction fees low."
   ]
  },
  {
   "cell_type": "markdown",
   "id": "f0a8c013",
   "metadata": {},
   "source": [
    "# PART 5b: Final Model\n",
    "### CRISP-DM (5) - Evaluation (Comparing model metrics)\n",
    "* Tune hyperparameters of the final model\n",
    "* Run the final tune model\n",
    "* Determine feature importance and discuss model interpretability"
   ]
  },
  {
   "cell_type": "markdown",
   "id": "7946cddc",
   "metadata": {},
   "source": [
    "### Import Key Libraries"
   ]
  },
  {
   "cell_type": "code",
   "execution_count": 1,
   "id": "5ff0bc66",
   "metadata": {},
   "outputs": [],
   "source": [
    "import pandas as pd\n",
    "import numpy as np\n",
    "from sklearn.model_selection import train_test_split\n",
    "from sklearn.compose import ColumnTransformer\n",
    "from sklearn.preprocessing import OneHotEncoder\n",
    "from sklearn.preprocessing import LabelEncoder\n",
    "from sklearn.preprocessing import StandardScaler\n",
    "from sklearn.linear_model import LogisticRegression\n",
    "from sklearn import metrics"
   ]
  },
  {
   "cell_type": "code",
   "execution_count": 2,
   "id": "f492bba5",
   "metadata": {},
   "outputs": [],
   "source": [
    "# import visualization libraries\n",
    "import matplotlib.pyplot as plt\n",
    "import matplotlib.patches as mpatches\n",
    "import seaborn as sns\n",
    "from bokeh.plotting import figure, show, output_notebook \n",
    "from bokeh.palettes import Spectral\n",
    "from bokeh.models import ColumnDataSource\n",
    "from bokeh.plotting import figure, show"
   ]
  },
  {
   "cell_type": "markdown",
   "id": "e8a72c8c-8f46-485e-886a-fd24cb72348c",
   "metadata": {},
   "source": [
    "### 5bi. Preparation of data"
   ]
  },
  {
   "cell_type": "markdown",
   "id": "6f4d79f6",
   "metadata": {},
   "source": [
    "### bi1. Read Dataset and update index"
   ]
  },
  {
   "cell_type": "code",
   "execution_count": 3,
   "id": "f28ef5ff",
   "metadata": {},
   "outputs": [],
   "source": [
    "dataset = pd.read_excel(\"PSP_Jan_Feb_2019.xlsx\")"
   ]
  },
  {
   "cell_type": "code",
   "execution_count": 4,
   "id": "52fac896",
   "metadata": {},
   "outputs": [
    {
     "data": {
      "text/html": [
       "<div>\n",
       "<style scoped>\n",
       "    .dataframe tbody tr th:only-of-type {\n",
       "        vertical-align: middle;\n",
       "    }\n",
       "\n",
       "    .dataframe tbody tr th {\n",
       "        vertical-align: top;\n",
       "    }\n",
       "\n",
       "    .dataframe thead th {\n",
       "        text-align: right;\n",
       "    }\n",
       "</style>\n",
       "<table border=\"1\" class=\"dataframe\">\n",
       "  <thead>\n",
       "    <tr style=\"text-align: right;\">\n",
       "      <th></th>\n",
       "      <th>Unnamed: 0</th>\n",
       "      <th>tmsp</th>\n",
       "      <th>country</th>\n",
       "      <th>amount</th>\n",
       "      <th>success</th>\n",
       "      <th>PSP</th>\n",
       "      <th>3D_secured</th>\n",
       "      <th>card</th>\n",
       "    </tr>\n",
       "  </thead>\n",
       "  <tbody>\n",
       "    <tr>\n",
       "      <th>0</th>\n",
       "      <td>0</td>\n",
       "      <td>2019-01-01 00:01:11</td>\n",
       "      <td>Germany</td>\n",
       "      <td>89</td>\n",
       "      <td>0</td>\n",
       "      <td>UK_Card</td>\n",
       "      <td>0</td>\n",
       "      <td>Visa</td>\n",
       "    </tr>\n",
       "    <tr>\n",
       "      <th>1</th>\n",
       "      <td>1</td>\n",
       "      <td>2019-01-01 00:01:17</td>\n",
       "      <td>Germany</td>\n",
       "      <td>89</td>\n",
       "      <td>1</td>\n",
       "      <td>UK_Card</td>\n",
       "      <td>0</td>\n",
       "      <td>Visa</td>\n",
       "    </tr>\n",
       "    <tr>\n",
       "      <th>2</th>\n",
       "      <td>2</td>\n",
       "      <td>2019-01-01 00:02:49</td>\n",
       "      <td>Germany</td>\n",
       "      <td>238</td>\n",
       "      <td>0</td>\n",
       "      <td>UK_Card</td>\n",
       "      <td>1</td>\n",
       "      <td>Diners</td>\n",
       "    </tr>\n",
       "    <tr>\n",
       "      <th>3</th>\n",
       "      <td>3</td>\n",
       "      <td>2019-01-01 00:03:13</td>\n",
       "      <td>Germany</td>\n",
       "      <td>238</td>\n",
       "      <td>1</td>\n",
       "      <td>UK_Card</td>\n",
       "      <td>1</td>\n",
       "      <td>Diners</td>\n",
       "    </tr>\n",
       "    <tr>\n",
       "      <th>4</th>\n",
       "      <td>4</td>\n",
       "      <td>2019-01-01 00:04:33</td>\n",
       "      <td>Austria</td>\n",
       "      <td>124</td>\n",
       "      <td>0</td>\n",
       "      <td>Simplecard</td>\n",
       "      <td>0</td>\n",
       "      <td>Diners</td>\n",
       "    </tr>\n",
       "  </tbody>\n",
       "</table>\n",
       "</div>"
      ],
      "text/plain": [
       "   Unnamed: 0                tmsp  country  amount  success         PSP  \\\n",
       "0           0 2019-01-01 00:01:11  Germany      89        0     UK_Card   \n",
       "1           1 2019-01-01 00:01:17  Germany      89        1     UK_Card   \n",
       "2           2 2019-01-01 00:02:49  Germany     238        0     UK_Card   \n",
       "3           3 2019-01-01 00:03:13  Germany     238        1     UK_Card   \n",
       "4           4 2019-01-01 00:04:33  Austria     124        0  Simplecard   \n",
       "\n",
       "   3D_secured    card  \n",
       "0           0    Visa  \n",
       "1           0    Visa  \n",
       "2           1  Diners  \n",
       "3           1  Diners  \n",
       "4           0  Diners  "
      ]
     },
     "execution_count": 4,
     "metadata": {},
     "output_type": "execute_result"
    }
   ],
   "source": [
    "dataset.head()"
   ]
  },
  {
   "cell_type": "code",
   "execution_count": 5,
   "id": "bcc7751d",
   "metadata": {},
   "outputs": [],
   "source": [
    "dataset = dataset.drop('Unnamed: 0', axis=1)"
   ]
  },
  {
   "cell_type": "markdown",
   "id": "1e486938-afaf-40fb-be4b-2e7023c1b781",
   "metadata": {},
   "source": [
    "#### bi2. Remove Duplicates\n",
    "* Comment out to include all transactions"
   ]
  },
  {
   "cell_type": "code",
   "execution_count": 6,
   "id": "9f300653-824e-425a-b464-b76590748fb1",
   "metadata": {},
   "outputs": [],
   "source": [
    "dataset.sort_values([\"tmsp\", \"country\", \"amount\"], axis = 0, ascending = True, inplace = True, na_position = \"first\")\n",
    "dataset.reset_index(inplace=True, drop=True)\n",
    "dataset[\"time_delta\"] = (dataset[\"tmsp\"]-dataset[\"tmsp\"].shift(1)).dt.total_seconds()\n",
    "dataset[\"time_delta\"] = dataset[\"time_delta\"].fillna(0)\n",
    "same_tx = (dataset[\"time_delta\"]>60).cumsum()\n",
    "dataset['tx_number'] = dataset.groupby(same_tx).ngroup()\n",
    "## Comment out to include duplicates\n",
    "dataset.drop_duplicates(subset=['tx_number', 'PSP'], keep='first', inplace=True)"
   ]
  },
  {
   "cell_type": "code",
   "execution_count": null,
   "id": "44856014-207f-4623-a0e0-8c68fd2eeff3",
   "metadata": {},
   "outputs": [],
   "source": []
  },
  {
   "cell_type": "markdown",
   "id": "30d72b38-a31f-4bb6-98fb-54f943f71330",
   "metadata": {},
   "source": [
    "#### bi3. Create dummy data/time features"
   ]
  },
  {
   "cell_type": "code",
   "execution_count": 7,
   "id": "ae12a2cc-f560-472e-893c-d407e9a6a83e",
   "metadata": {},
   "outputs": [],
   "source": [
    "### Remove year and month from the features list as there is only one year and the success rate is equally distributed between the two months\n",
    "## Create hour of the day feature\n",
    "dataset['day_of_month'] = dataset['tmsp'].dt.day\n",
    "## Create days of the week feature\n",
    "dataset['day_of_week'] = dataset['tmsp'].dt.day_name()\n",
    "## Create hour of the day feature\n",
    "dataset['hour'] = dataset['tmsp'].dt.hour"
   ]
  },
  {
   "cell_type": "code",
   "execution_count": 8,
   "id": "6813547f",
   "metadata": {},
   "outputs": [],
   "source": [
    "# make timestamp the index for easier analysis\n",
    "dataset = dataset.set_index(dataset.columns[0])"
   ]
  },
  {
   "cell_type": "code",
   "execution_count": 9,
   "id": "c913c59f",
   "metadata": {},
   "outputs": [
    {
     "data": {
      "text/html": [
       "<div>\n",
       "<style scoped>\n",
       "    .dataframe tbody tr th:only-of-type {\n",
       "        vertical-align: middle;\n",
       "    }\n",
       "\n",
       "    .dataframe tbody tr th {\n",
       "        vertical-align: top;\n",
       "    }\n",
       "\n",
       "    .dataframe thead th {\n",
       "        text-align: right;\n",
       "    }\n",
       "</style>\n",
       "<table border=\"1\" class=\"dataframe\">\n",
       "  <thead>\n",
       "    <tr style=\"text-align: right;\">\n",
       "      <th></th>\n",
       "      <th>country</th>\n",
       "      <th>amount</th>\n",
       "      <th>success</th>\n",
       "      <th>PSP</th>\n",
       "      <th>3D_secured</th>\n",
       "      <th>card</th>\n",
       "      <th>time_delta</th>\n",
       "      <th>tx_number</th>\n",
       "      <th>day_of_month</th>\n",
       "      <th>day_of_week</th>\n",
       "      <th>hour</th>\n",
       "    </tr>\n",
       "    <tr>\n",
       "      <th>tmsp</th>\n",
       "      <th></th>\n",
       "      <th></th>\n",
       "      <th></th>\n",
       "      <th></th>\n",
       "      <th></th>\n",
       "      <th></th>\n",
       "      <th></th>\n",
       "      <th></th>\n",
       "      <th></th>\n",
       "      <th></th>\n",
       "      <th></th>\n",
       "    </tr>\n",
       "  </thead>\n",
       "  <tbody>\n",
       "    <tr>\n",
       "      <th>2019-01-01 00:01:11</th>\n",
       "      <td>Germany</td>\n",
       "      <td>89</td>\n",
       "      <td>0</td>\n",
       "      <td>UK_Card</td>\n",
       "      <td>0</td>\n",
       "      <td>Visa</td>\n",
       "      <td>0.0</td>\n",
       "      <td>0</td>\n",
       "      <td>1</td>\n",
       "      <td>Tuesday</td>\n",
       "      <td>0</td>\n",
       "    </tr>\n",
       "    <tr>\n",
       "      <th>2019-01-01 00:02:49</th>\n",
       "      <td>Germany</td>\n",
       "      <td>238</td>\n",
       "      <td>0</td>\n",
       "      <td>UK_Card</td>\n",
       "      <td>1</td>\n",
       "      <td>Diners</td>\n",
       "      <td>92.0</td>\n",
       "      <td>1</td>\n",
       "      <td>1</td>\n",
       "      <td>Tuesday</td>\n",
       "      <td>0</td>\n",
       "    </tr>\n",
       "    <tr>\n",
       "      <th>2019-01-01 00:04:33</th>\n",
       "      <td>Austria</td>\n",
       "      <td>124</td>\n",
       "      <td>0</td>\n",
       "      <td>Simplecard</td>\n",
       "      <td>0</td>\n",
       "      <td>Diners</td>\n",
       "      <td>80.0</td>\n",
       "      <td>2</td>\n",
       "      <td>1</td>\n",
       "      <td>Tuesday</td>\n",
       "      <td>0</td>\n",
       "    </tr>\n",
       "    <tr>\n",
       "      <th>2019-01-01 00:06:41</th>\n",
       "      <td>Switzerland</td>\n",
       "      <td>282</td>\n",
       "      <td>0</td>\n",
       "      <td>UK_Card</td>\n",
       "      <td>0</td>\n",
       "      <td>Master</td>\n",
       "      <td>128.0</td>\n",
       "      <td>3</td>\n",
       "      <td>1</td>\n",
       "      <td>Tuesday</td>\n",
       "      <td>0</td>\n",
       "    </tr>\n",
       "    <tr>\n",
       "      <th>2019-01-01 00:07:19</th>\n",
       "      <td>Switzerland</td>\n",
       "      <td>282</td>\n",
       "      <td>0</td>\n",
       "      <td>Simplecard</td>\n",
       "      <td>0</td>\n",
       "      <td>Master</td>\n",
       "      <td>38.0</td>\n",
       "      <td>3</td>\n",
       "      <td>1</td>\n",
       "      <td>Tuesday</td>\n",
       "      <td>0</td>\n",
       "    </tr>\n",
       "  </tbody>\n",
       "</table>\n",
       "</div>"
      ],
      "text/plain": [
       "                         country  amount  success         PSP  3D_secured  \\\n",
       "tmsp                                                                        \n",
       "2019-01-01 00:01:11      Germany      89        0     UK_Card           0   \n",
       "2019-01-01 00:02:49      Germany     238        0     UK_Card           1   \n",
       "2019-01-01 00:04:33      Austria     124        0  Simplecard           0   \n",
       "2019-01-01 00:06:41  Switzerland     282        0     UK_Card           0   \n",
       "2019-01-01 00:07:19  Switzerland     282        0  Simplecard           0   \n",
       "\n",
       "                       card  time_delta  tx_number  day_of_month day_of_week  \\\n",
       "tmsp                                                                           \n",
       "2019-01-01 00:01:11    Visa         0.0          0             1     Tuesday   \n",
       "2019-01-01 00:02:49  Diners        92.0          1             1     Tuesday   \n",
       "2019-01-01 00:04:33  Diners        80.0          2             1     Tuesday   \n",
       "2019-01-01 00:06:41  Master       128.0          3             1     Tuesday   \n",
       "2019-01-01 00:07:19  Master        38.0          3             1     Tuesday   \n",
       "\n",
       "                     hour  \n",
       "tmsp                       \n",
       "2019-01-01 00:01:11     0  \n",
       "2019-01-01 00:02:49     0  \n",
       "2019-01-01 00:04:33     0  \n",
       "2019-01-01 00:06:41     0  \n",
       "2019-01-01 00:07:19     0  "
      ]
     },
     "execution_count": 9,
     "metadata": {},
     "output_type": "execute_result"
    }
   ],
   "source": [
    "dataset.head()"
   ]
  },
  {
   "cell_type": "code",
   "execution_count": 10,
   "id": "fce384a2",
   "metadata": {},
   "outputs": [],
   "source": [
    "# add a feature field to hold the order of the dates - for the base model\n",
    "dataset['date_order'] = np.arange(len(dataset.index))"
   ]
  },
  {
   "cell_type": "markdown",
   "id": "b3f8a9af",
   "metadata": {},
   "source": [
    "#### b14. Recreate dataset_time"
   ]
  },
  {
   "cell_type": "code",
   "execution_count": 11,
   "id": "f2282345-492c-426f-a54b-79e60f0bc942",
   "metadata": {},
   "outputs": [
    {
     "data": {
      "text/plain": [
       "country\n",
       "Austria         7434\n",
       "Germany        22683\n",
       "Switzerland     7815\n",
       "Name: country, dtype: int64"
      ]
     },
     "execution_count": 11,
     "metadata": {},
     "output_type": "execute_result"
    }
   ],
   "source": [
    "dataset.groupby('country')['country'].count()"
   ]
  },
  {
   "cell_type": "code",
   "execution_count": 12,
   "id": "ca09958a-0af9-4390-999b-c7425a72a2e8",
   "metadata": {},
   "outputs": [
    {
     "name": "stdout",
     "output_type": "stream",
     "text": [
      "country         0\n",
      "amount          0\n",
      "success         0\n",
      "PSP             0\n",
      "3D_secured      0\n",
      "card            0\n",
      "time_delta      0\n",
      "tx_number       0\n",
      "day_of_month    0\n",
      "day_of_week     0\n",
      "hour            0\n",
      "date_order      0\n",
      "dtype: int64\n"
     ]
    }
   ],
   "source": [
    "# Print the number of missing entries in each column\n",
    "print(dataset.isna().sum())"
   ]
  },
  {
   "cell_type": "code",
   "execution_count": null,
   "id": "fa04e847-0eda-42b4-9041-b238e01f9e4f",
   "metadata": {},
   "outputs": [],
   "source": []
  },
  {
   "cell_type": "markdown",
   "id": "dc7f76bb",
   "metadata": {},
   "source": [
    "#### bi5. Encoding of categorical feature variables and label and defining feature variable and dependent variable vector matrices for the base model"
   ]
  },
  {
   "cell_type": "code",
   "execution_count": 13,
   "id": "917e1f3b-84ec-4de6-973a-160063dc2e43",
   "metadata": {},
   "outputs": [],
   "source": [
    "# Encoding day of the week\n",
    "def encode_DayOfWeek(day_of_week):\n",
    "    if day_of_week==\"Monday\":\n",
    "        return 0\n",
    "    if day_of_week==\"Tuesday\":\n",
    "        return 1\n",
    "    if day_of_week==\"Wednesday\":\n",
    "        return 2\n",
    "    if day_of_week==\"Thursday\":\n",
    "        return 3\n",
    "    if day_of_week==\"Friday\":\n",
    "        return 4\n",
    "    if day_of_week==\"Saturday\":\n",
    "        return 5\n",
    "    if day_of_week==\"Sunday\":\n",
    "        return 6"
   ]
  },
  {
   "cell_type": "code",
   "execution_count": 14,
   "id": "7117261c-15b1-47a5-9a9c-e82fdc84ccfa",
   "metadata": {},
   "outputs": [],
   "source": [
    "dataset['day_of_week_num'] = dataset['day_of_week'].apply(encode_DayOfWeek)"
   ]
  },
  {
   "cell_type": "code",
   "execution_count": 15,
   "id": "ffe460c4",
   "metadata": {},
   "outputs": [
    {
     "data": {
      "text/html": [
       "<div>\n",
       "<style scoped>\n",
       "    .dataframe tbody tr th:only-of-type {\n",
       "        vertical-align: middle;\n",
       "    }\n",
       "\n",
       "    .dataframe tbody tr th {\n",
       "        vertical-align: top;\n",
       "    }\n",
       "\n",
       "    .dataframe thead th {\n",
       "        text-align: right;\n",
       "    }\n",
       "</style>\n",
       "<table border=\"1\" class=\"dataframe\">\n",
       "  <thead>\n",
       "    <tr style=\"text-align: right;\">\n",
       "      <th></th>\n",
       "      <th>country</th>\n",
       "      <th>amount</th>\n",
       "      <th>success</th>\n",
       "      <th>PSP</th>\n",
       "      <th>3D_secured</th>\n",
       "      <th>card</th>\n",
       "      <th>time_delta</th>\n",
       "      <th>tx_number</th>\n",
       "      <th>day_of_month</th>\n",
       "      <th>day_of_week</th>\n",
       "      <th>hour</th>\n",
       "      <th>date_order</th>\n",
       "      <th>day_of_week_num</th>\n",
       "    </tr>\n",
       "    <tr>\n",
       "      <th>tmsp</th>\n",
       "      <th></th>\n",
       "      <th></th>\n",
       "      <th></th>\n",
       "      <th></th>\n",
       "      <th></th>\n",
       "      <th></th>\n",
       "      <th></th>\n",
       "      <th></th>\n",
       "      <th></th>\n",
       "      <th></th>\n",
       "      <th></th>\n",
       "      <th></th>\n",
       "      <th></th>\n",
       "    </tr>\n",
       "  </thead>\n",
       "  <tbody>\n",
       "    <tr>\n",
       "      <th>2019-01-01 00:01:11</th>\n",
       "      <td>Germany</td>\n",
       "      <td>89</td>\n",
       "      <td>0</td>\n",
       "      <td>UK_Card</td>\n",
       "      <td>0</td>\n",
       "      <td>Visa</td>\n",
       "      <td>0.0</td>\n",
       "      <td>0</td>\n",
       "      <td>1</td>\n",
       "      <td>Tuesday</td>\n",
       "      <td>0</td>\n",
       "      <td>0</td>\n",
       "      <td>1</td>\n",
       "    </tr>\n",
       "  </tbody>\n",
       "</table>\n",
       "</div>"
      ],
      "text/plain": [
       "                     country  amount  success      PSP  3D_secured  card  \\\n",
       "tmsp                                                                       \n",
       "2019-01-01 00:01:11  Germany      89        0  UK_Card           0  Visa   \n",
       "\n",
       "                     time_delta  tx_number  day_of_month day_of_week  hour  \\\n",
       "tmsp                                                                         \n",
       "2019-01-01 00:01:11         0.0          0             1     Tuesday     0   \n",
       "\n",
       "                     date_order  day_of_week_num  \n",
       "tmsp                                              \n",
       "2019-01-01 00:01:11           0                1  "
      ]
     },
     "execution_count": 15,
     "metadata": {},
     "output_type": "execute_result"
    }
   ],
   "source": [
    "dataset.head(1)"
   ]
  },
  {
   "cell_type": "code",
   "execution_count": 16,
   "id": "765c1f98",
   "metadata": {},
   "outputs": [],
   "source": [
    "#define categorical features\n",
    "cat_features = ['country', 'card', 'PSP']"
   ]
  },
  {
   "cell_type": "code",
   "execution_count": 17,
   "id": "db7d39c0",
   "metadata": {},
   "outputs": [],
   "source": [
    "#encoding the categorical feature variables using OneHotEncoder\n",
    "ct = ColumnTransformer(transformers=[('encoder', OneHotEncoder(),cat_features)], remainder='passthrough')\n",
    "### with no dups and no date_order (scenario AT, DTIDRF, DTEDRF)\n",
    "X = np.array(ct.fit_transform(dataset.drop(['success','day_of_week','date_order'], axis=1)))"
   ]
  },
  {
   "cell_type": "code",
   "execution_count": 18,
   "id": "bb9e0f88",
   "metadata": {},
   "outputs": [
    {
     "name": "stdout",
     "output_type": "stream",
     "text": [
      "[  1.   0.   0.   1.   0.   0.   0.   0.   1.   0. 124.   0.  80.   2.\n",
      "   1.   0.   1.]\n"
     ]
    }
   ],
   "source": [
    "print(X[2])"
   ]
  },
  {
   "cell_type": "code",
   "execution_count": 19,
   "id": "ba02e24c",
   "metadata": {},
   "outputs": [],
   "source": [
    "#encoding the label using LabelEncoder\n",
    "le = LabelEncoder()\n",
    "y = le.fit_transform(dataset['success'])"
   ]
  },
  {
   "cell_type": "code",
   "execution_count": 20,
   "id": "81432216",
   "metadata": {},
   "outputs": [
    {
     "name": "stdout",
     "output_type": "stream",
     "text": [
      "0\n"
     ]
    }
   ],
   "source": [
    "print(y[2])"
   ]
  },
  {
   "cell_type": "code",
   "execution_count": null,
   "id": "d13937a4-9df6-4301-989b-a9e09674ee10",
   "metadata": {},
   "outputs": [],
   "source": []
  },
  {
   "cell_type": "markdown",
   "id": "a0299503",
   "metadata": {},
   "source": [
    "#### bi6. Split the data into training set and the test set"
   ]
  },
  {
   "cell_type": "code",
   "execution_count": 21,
   "id": "0287277c",
   "metadata": {},
   "outputs": [],
   "source": [
    "X_train, X_test, y_train, y_test = train_test_split(X, y, test_size=0.2,random_state=30)"
   ]
  },
  {
   "cell_type": "code",
   "execution_count": 22,
   "id": "a6fd27e3",
   "metadata": {},
   "outputs": [
    {
     "name": "stdout",
     "output_type": "stream",
     "text": [
      "[1.0000e+00 0.0000e+00 0.0000e+00 0.0000e+00 0.0000e+00 1.0000e+00\n",
      " 0.0000e+00 0.0000e+00 0.0000e+00 1.0000e+00 3.1600e+02 0.0000e+00\n",
      " 1.1600e+02 2.2953e+04 1.9000e+01 9.0000e+00 1.0000e+00]\n"
     ]
    }
   ],
   "source": [
    "print(X_train[2])"
   ]
  },
  {
   "cell_type": "markdown",
   "id": "083fed1c",
   "metadata": {},
   "source": [
    "#### bi7. Feature scaling"
   ]
  },
  {
   "cell_type": "code",
   "execution_count": 23,
   "id": "60b35c1b",
   "metadata": {},
   "outputs": [],
   "source": [
    "# scaling all the non-encoded columns on both train and test set\n",
    "sc = StandardScaler()\n",
    "X_train[:,6:] = sc.fit_transform(X_train[:,6:]) #fitting is done only with the train set\n",
    "X_test[:,6:] = sc.transform(X_test[:,6:]) #scale test data using the fitted scaler"
   ]
  },
  {
   "cell_type": "code",
   "execution_count": 24,
   "id": "f457d94d",
   "metadata": {},
   "outputs": [
    {
     "name": "stdout",
     "output_type": "stream",
     "text": [
      "[ 0.          1.          0.          0.          1.          0.\n",
      " -0.30022504  2.02908863 -0.62597507 -0.88706933  0.44714685 -0.56074325\n",
      " -0.63608601  0.26660762 -1.33962713  1.36456111  1.65172211]\n"
     ]
    }
   ],
   "source": [
    "print(X_train[1])"
   ]
  },
  {
   "cell_type": "code",
   "execution_count": 25,
   "id": "d4719a5b",
   "metadata": {},
   "outputs": [
    {
     "name": "stdout",
     "output_type": "stream",
     "text": [
      "[ 0.          1.          0.          0.          1.          0.\n",
      " -0.30022504 -0.49283209 -0.62597507  1.1273076  -0.07250978  1.78334738\n",
      "  0.46761663  1.64174621  1.41941929 -0.2199559  -0.41945735]\n"
     ]
    }
   ],
   "source": [
    "print(X_test[1])"
   ]
  },
  {
   "cell_type": "code",
   "execution_count": null,
   "id": "375ec6e1-2579-4942-9de9-b56636188fa8",
   "metadata": {},
   "outputs": [],
   "source": []
  },
  {
   "cell_type": "markdown",
   "id": "13617da2-edf7-4155-a375-0856d2bf12f5",
   "metadata": {},
   "source": [
    "### 5biii. Final Model"
   ]
  },
  {
   "cell_type": "markdown",
   "id": "fc45b1be-910e-4782-9952-bce55fcb32e1",
   "metadata": {},
   "source": [
    "##### biii1. Model Training"
   ]
  },
  {
   "cell_type": "code",
   "execution_count": 26,
   "id": "9f3cd9a5-a79c-4394-a749-14a767e06a3d",
   "metadata": {},
   "outputs": [
    {
     "data": {
      "text/html": [
       "<style>#sk-container-id-1 {\n",
       "  /* Definition of color scheme common for light and dark mode */\n",
       "  --sklearn-color-text: black;\n",
       "  --sklearn-color-line: gray;\n",
       "  /* Definition of color scheme for unfitted estimators */\n",
       "  --sklearn-color-unfitted-level-0: #fff5e6;\n",
       "  --sklearn-color-unfitted-level-1: #f6e4d2;\n",
       "  --sklearn-color-unfitted-level-2: #ffe0b3;\n",
       "  --sklearn-color-unfitted-level-3: chocolate;\n",
       "  /* Definition of color scheme for fitted estimators */\n",
       "  --sklearn-color-fitted-level-0: #f0f8ff;\n",
       "  --sklearn-color-fitted-level-1: #d4ebff;\n",
       "  --sklearn-color-fitted-level-2: #b3dbfd;\n",
       "  --sklearn-color-fitted-level-3: cornflowerblue;\n",
       "\n",
       "  /* Specific color for light theme */\n",
       "  --sklearn-color-text-on-default-background: var(--sg-text-color, var(--theme-code-foreground, var(--jp-content-font-color1, black)));\n",
       "  --sklearn-color-background: var(--sg-background-color, var(--theme-background, var(--jp-layout-color0, white)));\n",
       "  --sklearn-color-border-box: var(--sg-text-color, var(--theme-code-foreground, var(--jp-content-font-color1, black)));\n",
       "  --sklearn-color-icon: #696969;\n",
       "\n",
       "  @media (prefers-color-scheme: dark) {\n",
       "    /* Redefinition of color scheme for dark theme */\n",
       "    --sklearn-color-text-on-default-background: var(--sg-text-color, var(--theme-code-foreground, var(--jp-content-font-color1, white)));\n",
       "    --sklearn-color-background: var(--sg-background-color, var(--theme-background, var(--jp-layout-color0, #111)));\n",
       "    --sklearn-color-border-box: var(--sg-text-color, var(--theme-code-foreground, var(--jp-content-font-color1, white)));\n",
       "    --sklearn-color-icon: #878787;\n",
       "  }\n",
       "}\n",
       "\n",
       "#sk-container-id-1 {\n",
       "  color: var(--sklearn-color-text);\n",
       "}\n",
       "\n",
       "#sk-container-id-1 pre {\n",
       "  padding: 0;\n",
       "}\n",
       "\n",
       "#sk-container-id-1 input.sk-hidden--visually {\n",
       "  border: 0;\n",
       "  clip: rect(1px 1px 1px 1px);\n",
       "  clip: rect(1px, 1px, 1px, 1px);\n",
       "  height: 1px;\n",
       "  margin: -1px;\n",
       "  overflow: hidden;\n",
       "  padding: 0;\n",
       "  position: absolute;\n",
       "  width: 1px;\n",
       "}\n",
       "\n",
       "#sk-container-id-1 div.sk-dashed-wrapped {\n",
       "  border: 1px dashed var(--sklearn-color-line);\n",
       "  margin: 0 0.4em 0.5em 0.4em;\n",
       "  box-sizing: border-box;\n",
       "  padding-bottom: 0.4em;\n",
       "  background-color: var(--sklearn-color-background);\n",
       "}\n",
       "\n",
       "#sk-container-id-1 div.sk-container {\n",
       "  /* jupyter's `normalize.less` sets `[hidden] { display: none; }`\n",
       "     but bootstrap.min.css set `[hidden] { display: none !important; }`\n",
       "     so we also need the `!important` here to be able to override the\n",
       "     default hidden behavior on the sphinx rendered scikit-learn.org.\n",
       "     See: https://github.com/scikit-learn/scikit-learn/issues/21755 */\n",
       "  display: inline-block !important;\n",
       "  position: relative;\n",
       "}\n",
       "\n",
       "#sk-container-id-1 div.sk-text-repr-fallback {\n",
       "  display: none;\n",
       "}\n",
       "\n",
       "div.sk-parallel-item,\n",
       "div.sk-serial,\n",
       "div.sk-item {\n",
       "  /* draw centered vertical line to link estimators */\n",
       "  background-image: linear-gradient(var(--sklearn-color-text-on-default-background), var(--sklearn-color-text-on-default-background));\n",
       "  background-size: 2px 100%;\n",
       "  background-repeat: no-repeat;\n",
       "  background-position: center center;\n",
       "}\n",
       "\n",
       "/* Parallel-specific style estimator block */\n",
       "\n",
       "#sk-container-id-1 div.sk-parallel-item::after {\n",
       "  content: \"\";\n",
       "  width: 100%;\n",
       "  border-bottom: 2px solid var(--sklearn-color-text-on-default-background);\n",
       "  flex-grow: 1;\n",
       "}\n",
       "\n",
       "#sk-container-id-1 div.sk-parallel {\n",
       "  display: flex;\n",
       "  align-items: stretch;\n",
       "  justify-content: center;\n",
       "  background-color: var(--sklearn-color-background);\n",
       "  position: relative;\n",
       "}\n",
       "\n",
       "#sk-container-id-1 div.sk-parallel-item {\n",
       "  display: flex;\n",
       "  flex-direction: column;\n",
       "}\n",
       "\n",
       "#sk-container-id-1 div.sk-parallel-item:first-child::after {\n",
       "  align-self: flex-end;\n",
       "  width: 50%;\n",
       "}\n",
       "\n",
       "#sk-container-id-1 div.sk-parallel-item:last-child::after {\n",
       "  align-self: flex-start;\n",
       "  width: 50%;\n",
       "}\n",
       "\n",
       "#sk-container-id-1 div.sk-parallel-item:only-child::after {\n",
       "  width: 0;\n",
       "}\n",
       "\n",
       "/* Serial-specific style estimator block */\n",
       "\n",
       "#sk-container-id-1 div.sk-serial {\n",
       "  display: flex;\n",
       "  flex-direction: column;\n",
       "  align-items: center;\n",
       "  background-color: var(--sklearn-color-background);\n",
       "  padding-right: 1em;\n",
       "  padding-left: 1em;\n",
       "}\n",
       "\n",
       "\n",
       "/* Toggleable style: style used for estimator/Pipeline/ColumnTransformer box that is\n",
       "clickable and can be expanded/collapsed.\n",
       "- Pipeline and ColumnTransformer use this feature and define the default style\n",
       "- Estimators will overwrite some part of the style using the `sk-estimator` class\n",
       "*/\n",
       "\n",
       "/* Pipeline and ColumnTransformer style (default) */\n",
       "\n",
       "#sk-container-id-1 div.sk-toggleable {\n",
       "  /* Default theme specific background. It is overwritten whether we have a\n",
       "  specific estimator or a Pipeline/ColumnTransformer */\n",
       "  background-color: var(--sklearn-color-background);\n",
       "}\n",
       "\n",
       "/* Toggleable label */\n",
       "#sk-container-id-1 label.sk-toggleable__label {\n",
       "  cursor: pointer;\n",
       "  display: block;\n",
       "  width: 100%;\n",
       "  margin-bottom: 0;\n",
       "  padding: 0.5em;\n",
       "  box-sizing: border-box;\n",
       "  text-align: center;\n",
       "}\n",
       "\n",
       "#sk-container-id-1 label.sk-toggleable__label-arrow:before {\n",
       "  /* Arrow on the left of the label */\n",
       "  content: \"▸\";\n",
       "  float: left;\n",
       "  margin-right: 0.25em;\n",
       "  color: var(--sklearn-color-icon);\n",
       "}\n",
       "\n",
       "#sk-container-id-1 label.sk-toggleable__label-arrow:hover:before {\n",
       "  color: var(--sklearn-color-text);\n",
       "}\n",
       "\n",
       "/* Toggleable content - dropdown */\n",
       "\n",
       "#sk-container-id-1 div.sk-toggleable__content {\n",
       "  max-height: 0;\n",
       "  max-width: 0;\n",
       "  overflow: hidden;\n",
       "  text-align: left;\n",
       "  /* unfitted */\n",
       "  background-color: var(--sklearn-color-unfitted-level-0);\n",
       "}\n",
       "\n",
       "#sk-container-id-1 div.sk-toggleable__content.fitted {\n",
       "  /* fitted */\n",
       "  background-color: var(--sklearn-color-fitted-level-0);\n",
       "}\n",
       "\n",
       "#sk-container-id-1 div.sk-toggleable__content pre {\n",
       "  margin: 0.2em;\n",
       "  border-radius: 0.25em;\n",
       "  color: var(--sklearn-color-text);\n",
       "  /* unfitted */\n",
       "  background-color: var(--sklearn-color-unfitted-level-0);\n",
       "}\n",
       "\n",
       "#sk-container-id-1 div.sk-toggleable__content.fitted pre {\n",
       "  /* unfitted */\n",
       "  background-color: var(--sklearn-color-fitted-level-0);\n",
       "}\n",
       "\n",
       "#sk-container-id-1 input.sk-toggleable__control:checked~div.sk-toggleable__content {\n",
       "  /* Expand drop-down */\n",
       "  max-height: 200px;\n",
       "  max-width: 100%;\n",
       "  overflow: auto;\n",
       "}\n",
       "\n",
       "#sk-container-id-1 input.sk-toggleable__control:checked~label.sk-toggleable__label-arrow:before {\n",
       "  content: \"▾\";\n",
       "}\n",
       "\n",
       "/* Pipeline/ColumnTransformer-specific style */\n",
       "\n",
       "#sk-container-id-1 div.sk-label input.sk-toggleable__control:checked~label.sk-toggleable__label {\n",
       "  color: var(--sklearn-color-text);\n",
       "  background-color: var(--sklearn-color-unfitted-level-2);\n",
       "}\n",
       "\n",
       "#sk-container-id-1 div.sk-label.fitted input.sk-toggleable__control:checked~label.sk-toggleable__label {\n",
       "  background-color: var(--sklearn-color-fitted-level-2);\n",
       "}\n",
       "\n",
       "/* Estimator-specific style */\n",
       "\n",
       "/* Colorize estimator box */\n",
       "#sk-container-id-1 div.sk-estimator input.sk-toggleable__control:checked~label.sk-toggleable__label {\n",
       "  /* unfitted */\n",
       "  background-color: var(--sklearn-color-unfitted-level-2);\n",
       "}\n",
       "\n",
       "#sk-container-id-1 div.sk-estimator.fitted input.sk-toggleable__control:checked~label.sk-toggleable__label {\n",
       "  /* fitted */\n",
       "  background-color: var(--sklearn-color-fitted-level-2);\n",
       "}\n",
       "\n",
       "#sk-container-id-1 div.sk-label label.sk-toggleable__label,\n",
       "#sk-container-id-1 div.sk-label label {\n",
       "  /* The background is the default theme color */\n",
       "  color: var(--sklearn-color-text-on-default-background);\n",
       "}\n",
       "\n",
       "/* On hover, darken the color of the background */\n",
       "#sk-container-id-1 div.sk-label:hover label.sk-toggleable__label {\n",
       "  color: var(--sklearn-color-text);\n",
       "  background-color: var(--sklearn-color-unfitted-level-2);\n",
       "}\n",
       "\n",
       "/* Label box, darken color on hover, fitted */\n",
       "#sk-container-id-1 div.sk-label.fitted:hover label.sk-toggleable__label.fitted {\n",
       "  color: var(--sklearn-color-text);\n",
       "  background-color: var(--sklearn-color-fitted-level-2);\n",
       "}\n",
       "\n",
       "/* Estimator label */\n",
       "\n",
       "#sk-container-id-1 div.sk-label label {\n",
       "  font-family: monospace;\n",
       "  font-weight: bold;\n",
       "  display: inline-block;\n",
       "  line-height: 1.2em;\n",
       "}\n",
       "\n",
       "#sk-container-id-1 div.sk-label-container {\n",
       "  text-align: center;\n",
       "}\n",
       "\n",
       "/* Estimator-specific */\n",
       "#sk-container-id-1 div.sk-estimator {\n",
       "  font-family: monospace;\n",
       "  border: 1px dotted var(--sklearn-color-border-box);\n",
       "  border-radius: 0.25em;\n",
       "  box-sizing: border-box;\n",
       "  margin-bottom: 0.5em;\n",
       "  /* unfitted */\n",
       "  background-color: var(--sklearn-color-unfitted-level-0);\n",
       "}\n",
       "\n",
       "#sk-container-id-1 div.sk-estimator.fitted {\n",
       "  /* fitted */\n",
       "  background-color: var(--sklearn-color-fitted-level-0);\n",
       "}\n",
       "\n",
       "/* on hover */\n",
       "#sk-container-id-1 div.sk-estimator:hover {\n",
       "  /* unfitted */\n",
       "  background-color: var(--sklearn-color-unfitted-level-2);\n",
       "}\n",
       "\n",
       "#sk-container-id-1 div.sk-estimator.fitted:hover {\n",
       "  /* fitted */\n",
       "  background-color: var(--sklearn-color-fitted-level-2);\n",
       "}\n",
       "\n",
       "/* Specification for estimator info (e.g. \"i\" and \"?\") */\n",
       "\n",
       "/* Common style for \"i\" and \"?\" */\n",
       "\n",
       ".sk-estimator-doc-link,\n",
       "a:link.sk-estimator-doc-link,\n",
       "a:visited.sk-estimator-doc-link {\n",
       "  float: right;\n",
       "  font-size: smaller;\n",
       "  line-height: 1em;\n",
       "  font-family: monospace;\n",
       "  background-color: var(--sklearn-color-background);\n",
       "  border-radius: 1em;\n",
       "  height: 1em;\n",
       "  width: 1em;\n",
       "  text-decoration: none !important;\n",
       "  margin-left: 1ex;\n",
       "  /* unfitted */\n",
       "  border: var(--sklearn-color-unfitted-level-1) 1pt solid;\n",
       "  color: var(--sklearn-color-unfitted-level-1);\n",
       "}\n",
       "\n",
       ".sk-estimator-doc-link.fitted,\n",
       "a:link.sk-estimator-doc-link.fitted,\n",
       "a:visited.sk-estimator-doc-link.fitted {\n",
       "  /* fitted */\n",
       "  border: var(--sklearn-color-fitted-level-1) 1pt solid;\n",
       "  color: var(--sklearn-color-fitted-level-1);\n",
       "}\n",
       "\n",
       "/* On hover */\n",
       "div.sk-estimator:hover .sk-estimator-doc-link:hover,\n",
       ".sk-estimator-doc-link:hover,\n",
       "div.sk-label-container:hover .sk-estimator-doc-link:hover,\n",
       ".sk-estimator-doc-link:hover {\n",
       "  /* unfitted */\n",
       "  background-color: var(--sklearn-color-unfitted-level-3);\n",
       "  color: var(--sklearn-color-background);\n",
       "  text-decoration: none;\n",
       "}\n",
       "\n",
       "div.sk-estimator.fitted:hover .sk-estimator-doc-link.fitted:hover,\n",
       ".sk-estimator-doc-link.fitted:hover,\n",
       "div.sk-label-container:hover .sk-estimator-doc-link.fitted:hover,\n",
       ".sk-estimator-doc-link.fitted:hover {\n",
       "  /* fitted */\n",
       "  background-color: var(--sklearn-color-fitted-level-3);\n",
       "  color: var(--sklearn-color-background);\n",
       "  text-decoration: none;\n",
       "}\n",
       "\n",
       "/* Span, style for the box shown on hovering the info icon */\n",
       ".sk-estimator-doc-link span {\n",
       "  display: none;\n",
       "  z-index: 9999;\n",
       "  position: relative;\n",
       "  font-weight: normal;\n",
       "  right: .2ex;\n",
       "  padding: .5ex;\n",
       "  margin: .5ex;\n",
       "  width: min-content;\n",
       "  min-width: 20ex;\n",
       "  max-width: 50ex;\n",
       "  color: var(--sklearn-color-text);\n",
       "  box-shadow: 2pt 2pt 4pt #999;\n",
       "  /* unfitted */\n",
       "  background: var(--sklearn-color-unfitted-level-0);\n",
       "  border: .5pt solid var(--sklearn-color-unfitted-level-3);\n",
       "}\n",
       "\n",
       ".sk-estimator-doc-link.fitted span {\n",
       "  /* fitted */\n",
       "  background: var(--sklearn-color-fitted-level-0);\n",
       "  border: var(--sklearn-color-fitted-level-3);\n",
       "}\n",
       "\n",
       ".sk-estimator-doc-link:hover span {\n",
       "  display: block;\n",
       "}\n",
       "\n",
       "/* \"?\"-specific style due to the `<a>` HTML tag */\n",
       "\n",
       "#sk-container-id-1 a.estimator_doc_link {\n",
       "  float: right;\n",
       "  font-size: 1rem;\n",
       "  line-height: 1em;\n",
       "  font-family: monospace;\n",
       "  background-color: var(--sklearn-color-background);\n",
       "  border-radius: 1rem;\n",
       "  height: 1rem;\n",
       "  width: 1rem;\n",
       "  text-decoration: none;\n",
       "  /* unfitted */\n",
       "  color: var(--sklearn-color-unfitted-level-1);\n",
       "  border: var(--sklearn-color-unfitted-level-1) 1pt solid;\n",
       "}\n",
       "\n",
       "#sk-container-id-1 a.estimator_doc_link.fitted {\n",
       "  /* fitted */\n",
       "  border: var(--sklearn-color-fitted-level-1) 1pt solid;\n",
       "  color: var(--sklearn-color-fitted-level-1);\n",
       "}\n",
       "\n",
       "/* On hover */\n",
       "#sk-container-id-1 a.estimator_doc_link:hover {\n",
       "  /* unfitted */\n",
       "  background-color: var(--sklearn-color-unfitted-level-3);\n",
       "  color: var(--sklearn-color-background);\n",
       "  text-decoration: none;\n",
       "}\n",
       "\n",
       "#sk-container-id-1 a.estimator_doc_link.fitted:hover {\n",
       "  /* fitted */\n",
       "  background-color: var(--sklearn-color-fitted-level-3);\n",
       "}\n",
       "</style><div id=\"sk-container-id-1\" class=\"sk-top-container\"><div class=\"sk-text-repr-fallback\"><pre>XGBClassifier(base_score=None, booster=None, callbacks=None,\n",
       "              colsample_bylevel=None, colsample_bynode=None,\n",
       "              colsample_bytree=0.9, device=None, early_stopping_rounds=None,\n",
       "              enable_categorical=False, eval_metric=None, feature_types=None,\n",
       "              gamma=1.6, grow_policy=None, importance_type=None,\n",
       "              interaction_constraints=None, learning_rate=0.01, max_bin=None,\n",
       "              max_cat_threshold=None, max_cat_to_onehot=None,\n",
       "              max_delta_step=None, max_depth=9, max_leaves=None,\n",
       "              min_child_weight=9, missing=nan, monotone_constraints=None,\n",
       "              multi_strategy=None, n_estimators=100, n_jobs=None, nthread=4,\n",
       "              num_parallel_tree=None, ...)</pre><b>In a Jupyter environment, please rerun this cell to show the HTML representation or trust the notebook. <br />On GitHub, the HTML representation is unable to render, please try loading this page with nbviewer.org.</b></div><div class=\"sk-container\" hidden><div class=\"sk-item\"><div class=\"sk-estimator fitted sk-toggleable\"><input class=\"sk-toggleable__control sk-hidden--visually\" id=\"sk-estimator-id-1\" type=\"checkbox\" checked><label for=\"sk-estimator-id-1\" class=\"sk-toggleable__label fitted sk-toggleable__label-arrow fitted\">&nbsp;XGBClassifier<span class=\"sk-estimator-doc-link fitted\">i<span>Fitted</span></span></label><div class=\"sk-toggleable__content fitted\"><pre>XGBClassifier(base_score=None, booster=None, callbacks=None,\n",
       "              colsample_bylevel=None, colsample_bynode=None,\n",
       "              colsample_bytree=0.9, device=None, early_stopping_rounds=None,\n",
       "              enable_categorical=False, eval_metric=None, feature_types=None,\n",
       "              gamma=1.6, grow_policy=None, importance_type=None,\n",
       "              interaction_constraints=None, learning_rate=0.01, max_bin=None,\n",
       "              max_cat_threshold=None, max_cat_to_onehot=None,\n",
       "              max_delta_step=None, max_depth=9, max_leaves=None,\n",
       "              min_child_weight=9, missing=nan, monotone_constraints=None,\n",
       "              multi_strategy=None, n_estimators=100, n_jobs=None, nthread=4,\n",
       "              num_parallel_tree=None, ...)</pre></div> </div></div></div></div>"
      ],
      "text/plain": [
       "XGBClassifier(base_score=None, booster=None, callbacks=None,\n",
       "              colsample_bylevel=None, colsample_bynode=None,\n",
       "              colsample_bytree=0.9, device=None, early_stopping_rounds=None,\n",
       "              enable_categorical=False, eval_metric=None, feature_types=None,\n",
       "              gamma=1.6, grow_policy=None, importance_type=None,\n",
       "              interaction_constraints=None, learning_rate=0.01, max_bin=None,\n",
       "              max_cat_threshold=None, max_cat_to_onehot=None,\n",
       "              max_delta_step=None, max_depth=9, max_leaves=None,\n",
       "              min_child_weight=9, missing=nan, monotone_constraints=None,\n",
       "              multi_strategy=None, n_estimators=100, n_jobs=None, nthread=4,\n",
       "              num_parallel_tree=None, ...)"
      ]
     },
     "execution_count": 26,
     "metadata": {},
     "output_type": "execute_result"
    }
   ],
   "source": [
    "import xgboost as xgb\n",
    "from xgboost.sklearn import XGBClassifier\n",
    "\n",
    "classifier = XGBClassifier(learning_rate =0.01, n_estimators=100, max_depth=9, min_child_weight=9, gamma=1.6, subsample=0.8,\n",
    "                           colsample_bytree=0.9, objective= 'binary:logistic', nthread=4, scale_pos_weight=1, seed=27, random_state=30)\n",
    "classifier.fit(X_train, y_train)"
   ]
  },
  {
   "cell_type": "code",
   "execution_count": 27,
   "id": "0b0b8495-34da-4df4-9996-62b5b699823d",
   "metadata": {},
   "outputs": [],
   "source": [
    "# Predict y given X_test\n",
    "y_pred = classifier.predict(X_test)\n",
    "y_pred_proba = classifier.predict_proba(X_test)"
   ]
  },
  {
   "cell_type": "code",
   "execution_count": null,
   "id": "640258cf-3816-4536-bf41-2e08486065b1",
   "metadata": {},
   "outputs": [],
   "source": []
  },
  {
   "cell_type": "markdown",
   "id": "bc7519ef-331d-429a-82d7-6d959d1f0f35",
   "metadata": {},
   "source": [
    "### CRISP-DM (6) - Deployment"
   ]
  },
  {
   "cell_type": "markdown",
   "id": "402e205d-eb5b-43d8-997a-f135ccee3de8",
   "metadata": {},
   "source": [
    "#### 6i. Additional steps for model deployment – factoring in PSP fees\n",
    "Implementing the PSP routing function based on the 3 prediction possibilities and the PSP fee: \n",
    "* All PSPs failed,\n",
    "* One PSP successful\n",
    "* More than 1 PSP successful\n",
    "In each scenario, the PSP with the lowest fee is chosen"
   ]
  },
  {
   "cell_type": "markdown",
   "id": "94f271dd-a6ef-4c01-a316-c21c310f3318",
   "metadata": {},
   "source": [
    "##### a. Import PSP Fees"
   ]
  },
  {
   "cell_type": "code",
   "execution_count": 28,
   "id": "fc1aa1b4-6e05-4385-8069-4ff93189f800",
   "metadata": {},
   "outputs": [],
   "source": [
    "psp_fees = pd.read_excel(\"Transaction Fees.xlsx\")"
   ]
  },
  {
   "cell_type": "code",
   "execution_count": 29,
   "id": "e7234a85-6b24-4105-97d3-9b5f360d677c",
   "metadata": {},
   "outputs": [
    {
     "data": {
      "text/html": [
       "<div>\n",
       "<style scoped>\n",
       "    .dataframe tbody tr th:only-of-type {\n",
       "        vertical-align: middle;\n",
       "    }\n",
       "\n",
       "    .dataframe tbody tr th {\n",
       "        vertical-align: top;\n",
       "    }\n",
       "\n",
       "    .dataframe thead th {\n",
       "        text-align: right;\n",
       "    }\n",
       "</style>\n",
       "<table border=\"1\" class=\"dataframe\">\n",
       "  <thead>\n",
       "    <tr style=\"text-align: right;\">\n",
       "      <th></th>\n",
       "      <th>name</th>\n",
       "      <th>Fee on successful transactions</th>\n",
       "      <th>Fee on failed transactions</th>\n",
       "      <th>Currency</th>\n",
       "    </tr>\n",
       "  </thead>\n",
       "  <tbody>\n",
       "    <tr>\n",
       "      <th>0</th>\n",
       "      <td>Moneycard</td>\n",
       "      <td>5</td>\n",
       "      <td>2.0</td>\n",
       "      <td>Euro</td>\n",
       "    </tr>\n",
       "    <tr>\n",
       "      <th>1</th>\n",
       "      <td>Goldcard</td>\n",
       "      <td>10</td>\n",
       "      <td>5.0</td>\n",
       "      <td>Euro</td>\n",
       "    </tr>\n",
       "    <tr>\n",
       "      <th>2</th>\n",
       "      <td>UK_Card</td>\n",
       "      <td>3</td>\n",
       "      <td>1.0</td>\n",
       "      <td>Euro</td>\n",
       "    </tr>\n",
       "    <tr>\n",
       "      <th>3</th>\n",
       "      <td>Simplecard</td>\n",
       "      <td>1</td>\n",
       "      <td>0.5</td>\n",
       "      <td>Euro</td>\n",
       "    </tr>\n",
       "  </tbody>\n",
       "</table>\n",
       "</div>"
      ],
      "text/plain": [
       "         name  Fee on successful transactions  Fee on failed transactions  \\\n",
       "0   Moneycard                               5                         2.0   \n",
       "1    Goldcard                              10                         5.0   \n",
       "2     UK_Card                               3                         1.0   \n",
       "3  Simplecard                               1                         0.5   \n",
       "\n",
       "  Currency  \n",
       "0     Euro  \n",
       "1     Euro  \n",
       "2     Euro  \n",
       "3     Euro  "
      ]
     },
     "execution_count": 29,
     "metadata": {},
     "output_type": "execute_result"
    }
   ],
   "source": [
    "psp_fees"
   ]
  },
  {
   "cell_type": "markdown",
   "id": "08db8f2e-6d7d-4fe9-952d-79c103b6279c",
   "metadata": {},
   "source": [
    "##### b. Function to prepare data in production for prediction\n",
    "We will use the prepare Test Dataset to complete this secton and assume that the data is ready for the model's consumption:\n",
    "* We assume that the data comes as a single stream of one transaction at a time\n",
    "* We also assume that feature engineering has been done (all transactions have to go through the feature engineering steps done in the modelling stage\n",
    "* We also assume that feature scaling is done"
   ]
  },
  {
   "cell_type": "code",
   "execution_count": null,
   "id": "7b90c437-807b-4817-abc0-e3ef0978b555",
   "metadata": {},
   "outputs": [],
   "source": []
  },
  {
   "cell_type": "markdown",
   "id": "24cdffee-b132-4510-be30-f86e42c72ba7",
   "metadata": {},
   "source": [
    "##### c. Routing function\n",
    "* The routing and choice will be facilitated through the user interface"
   ]
  },
  {
   "cell_type": "markdown",
   "id": "684d0f48-9850-4b5b-bcfe-7cbff6677648",
   "metadata": {},
   "source": [
    "###### ci. Define the 3 scenarios of prediction results"
   ]
  },
  {
   "cell_type": "code",
   "execution_count": 30,
   "id": "7a04e69a-6fd6-4f87-b34b-39893c96761e",
   "metadata": {},
   "outputs": [],
   "source": [
    "psp_pred_dict1 = {'UK_Card':0, 'Simplecard':0, 'Moneycard':0, 'Goldcard':0}\n",
    "psp_pred_dict2 = {'UK_Card':1, 'Simplecard':0, 'Moneycard':0, 'Goldcard':0}\n",
    "psp_pred_dict3 = {'UK_Card':0, 'Simplecard':0, 'Moneycard':1, 'Goldcard':1}"
   ]
  },
  {
   "cell_type": "markdown",
   "id": "6e2b7853-0a80-4ae7-9538-8c74eb549c0a",
   "metadata": {},
   "source": [
    "###### cii. Define the 3 scenarios of prediction results"
   ]
  },
  {
   "cell_type": "code",
   "execution_count": 31,
   "id": "bb71dd6d-efed-4a23-b982-98c069c06005",
   "metadata": {},
   "outputs": [],
   "source": [
    "def routing_function(psp_pred_dict, psp_fees):\n",
    "    pred_list = []\n",
    "    successful_psp_list = []\n",
    "    successful_psp_dict = {}\n",
    "\n",
    "    ## Get all predictions into a list\n",
    "    for psp, pred in psp_pred_dict.items():\n",
    "        pred_list.append(pred)\n",
    "\n",
    "    ## Scenario 1: Predict failure for all PSPs (sum of predictions is 0)\n",
    "    if sum(pred_list) == 0:\n",
    "        min_fee_line = psp_fees[psp_fees['Fee on failed transactions'] == psp_fees['Fee on failed transactions'].min()].reset_index()\n",
    "        selected_psp = min_fee_line.at[0, 'name']\n",
    "        min_fee = psp_fees[psp_fees['name']==selected_psp].reset_index().at[0,'Fee on failed transactions']\n",
    "        \n",
    "    ## Scenario 2: Predict only one PSP successful (sum of predictions is 1)\n",
    "    elif sum(pred_list) == 1:\n",
    "        selected_psp = list(psp_pred_dict.keys())[list(psp_pred_dict.values()).index(1)]\n",
    "        min_fee = psp_fees[psp_fees['name']==selected_psp].reset_index().at[0,'Fee on failed transactions']\n",
    "\n",
    "    ## Scenario 3: Predict more than one PSP successful (sum of predictions is greater than 1)\n",
    "    elif sum(pred_list) > 1:\n",
    "        for psp, pred in psp_pred_dict.items():\n",
    "            if pred==1:\n",
    "                successful_psp_list.append(psp)\n",
    "        for index, row in psp_fees.iterrows():\n",
    "            if row['name'] in successful_psp_list:\n",
    "                successful_psp_dict[row['name']] = row['Fee on successful transactions']\n",
    "        selected_psp = min(successful_psp_dict, key=successful_psp_dict.get)\n",
    "        min_fee = psp_fees[psp_fees['name']==selected_psp].reset_index().at[0,'Fee on failed transactions']\n",
    "    ### Raise exception for any other entries\n",
    "    else:\n",
    "        raise Exception(\"System error. Scenario does not exist. Contact Admin\")\n",
    "    return selected_psp, min_fee"
   ]
  },
  {
   "cell_type": "code",
   "execution_count": 32,
   "id": "65fe1810-bc0a-4eef-843a-d2b5af348c05",
   "metadata": {},
   "outputs": [],
   "source": [
    "selected_psp, min_fee = routing_function(psp_pred_dict2, psp_fees)"
   ]
  },
  {
   "cell_type": "code",
   "execution_count": 33,
   "id": "18494dcb-7eff-4ae6-8f05-39e14f07eec8",
   "metadata": {},
   "outputs": [
    {
     "name": "stdout",
     "output_type": "stream",
     "text": [
      "The selected PSP is UK_Card with a fee of 1.0 Euro(s)\n"
     ]
    }
   ],
   "source": [
    "print('The selected PSP is {} with a fee of {} Euro(s)'.format(selected_psp, min_fee))"
   ]
  },
  {
   "cell_type": "code",
   "execution_count": null,
   "id": "49be699e-946a-430f-9436-d5fbb64948b5",
   "metadata": {},
   "outputs": [],
   "source": []
  },
  {
   "cell_type": "markdown",
   "id": "98827cba-2155-4591-99ff-3c038c455fc9",
   "metadata": {},
   "source": [
    "#### 6ii. How the model can be used by the business (Discussion Only)\n",
    "* Discuss how the model solves the business problem - Refer to introduction section in main case study report\n",
    "* Discuss how the model would be deployed - beyond the scope of the case study\n",
    "* Should we create a pickle? - beyond the scope of the case study\n",
    "* Document the model dependencies (Add to ReadMe to Github) - beyond the scope of the case study\n",
    "* In the last step of the project, give a proposal of how your model could be used by the business in everyday work, for instance, via a graphical user interface (GUI) - Refer to section 2.8 of the main case study report"
   ]
  },
  {
   "cell_type": "code",
   "execution_count": null,
   "id": "e0e48ea1-1a8e-421b-bb4f-fecbc7be6284",
   "metadata": {},
   "outputs": [],
   "source": []
  }
 ],
 "metadata": {
  "kernelspec": {
   "display_name": "Python 3 (ipykernel)",
   "language": "python",
   "name": "python3"
  },
  "language_info": {
   "codemirror_mode": {
    "name": "ipython",
    "version": 3
   },
   "file_extension": ".py",
   "mimetype": "text/x-python",
   "name": "python",
   "nbconvert_exporter": "python",
   "pygments_lexer": "ipython3",
   "version": "3.12.3"
  }
 },
 "nbformat": 4,
 "nbformat_minor": 5
}
